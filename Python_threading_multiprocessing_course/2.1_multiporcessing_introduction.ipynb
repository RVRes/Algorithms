{
 "cells": [
  {
   "cell_type": "code",
   "execution_count": 3,
   "metadata": {
    "collapsed": true,
    "ExecuteTime": {
     "end_time": "2023-05-26T01:11:14.978072112Z",
     "start_time": "2023-05-26T01:10:53.925058558Z"
    }
   },
   "outputs": [
    {
     "name": "stdout",
     "output_type": "stream",
     "text": [
      "prc-3 91785: 1685063453.9287379\n",
      "process is started\n",
      "prc-3 91785: 1685063454.9679208\n",
      "prc-3 91785: 1685063455.9700708\n",
      "prc-3 91785: 1685063456.9769518\n",
      "prc-3 91785: 1685063457.984104\n",
      "prc-3 91785: 1685063458.9916642\n",
      "prc-3 91785: 1685063459.998303\n",
      "prc-3 91785: 1685063461.001322\n",
      "prc-3 91785: 1685063462.0090337\n",
      "prc-3 91785: 1685063463.0170753\n",
      "prc-3 91785: 1685063464.0248868\n",
      "prc-3 91785: 1685063465.0316079\n",
      "prc-3 91785: 1685063466.0385866\n",
      "prc-3 91785: 1685063467.045785\n",
      "prc-3 91785: 1685063468.0529263\n",
      "prc-3 91785: 1685063469.0619125\n",
      "prc-3 91785: 1685063470.0694444\n",
      "prc-3 91785: 1685063471.0770216\n",
      "prc-3 91785: 1685063472.0849588\n",
      "prc-3 91785: 1685063473.092808\n",
      "pr is alive? False\n"
     ]
    }
   ],
   "source": [
    "# multiprocessing basics\n",
    "# https://stepik.org/lesson/628340/step/1?unit=624220\n",
    "import multiprocessing\n",
    "import time\n",
    "\n",
    "\n",
    "def test():\n",
    "    while True:\n",
    "        cp = multiprocessing.current_process()\n",
    "        print(f'{cp.name} {cp.pid}: {time.time()}')\n",
    "        time.sleep(1)\n",
    "\n",
    "pr = multiprocessing.Process(target=test, name='prc-3')\n",
    "pr.start()\n",
    "\n",
    "print('process is started')\n",
    "time.sleep(5)\n",
    "\n",
    "pr.terminate()\n",
    "time.sleep(1)\n",
    "print('pr is alive?', pr.is_alive())"
   ]
  },
  {
   "cell_type": "code",
   "execution_count": 5,
   "outputs": [
    {
     "name": "stdout",
     "output_type": "stream",
     "text": [
      "prc-2 92051: 1685063774.929495\n",
      "prc-0 92047: 1685063774.9208906\n",
      "prc-1 92049: 1685063774.9257793\n",
      "process is started\n",
      "prc-2 92051: 1685063775.9336667\n",
      "prc-0 92047: 1685063775.9476843\n",
      "prc-1 92049: 1685063775.955554\n",
      "prc-2 92051: 1685063776.9400115\n",
      "prc-0 92047: 1685063776.953582\n",
      "prc-1 92049: 1685063776.9619005\n",
      "prc-2 92051: 1685063777.9463286\n",
      "prc-0 92047: 1685063777.9611595\n",
      "prc-1 92049: 1685063777.9680445\n",
      "prc-2 92051: 1685063778.9536345\n",
      "prc-0 92047: 1685063778.9682\n",
      "prc-1 92049: 1685063778.9759302\n",
      "processes joined\n"
     ]
    }
   ],
   "source": [
    "import multiprocessing\n",
    "import time\n",
    "\n",
    "\n",
    "def test():\n",
    "    for _ in range(5):\n",
    "        cp = multiprocessing.current_process()\n",
    "        print(f'{cp.name} {cp.pid}: {time.time()}')\n",
    "        time.sleep(1)\n",
    "\n",
    "processes = []\n",
    "\n",
    "for i in range(3):\n",
    "    pr = multiprocessing.Process(target=test, name=f'prc-{i}')\n",
    "    pr.start()\n",
    "    processes.append(pr)\n",
    "\n",
    "print('process is started')\n",
    "time.sleep(5)\n",
    "\n",
    "for pr in processes:\n",
    "    pr.join()\n",
    "print('processes joined')"
   ],
   "metadata": {
    "collapsed": false,
    "ExecuteTime": {
     "end_time": "2023-05-26T01:16:20.004395501Z",
     "start_time": "2023-05-26T01:16:14.914444429Z"
    }
   }
  },
  {
   "cell_type": "code",
   "execution_count": null,
   "outputs": [],
   "source": [],
   "metadata": {
    "collapsed": false
   }
  }
 ],
 "metadata": {
  "kernelspec": {
   "display_name": "Python 3",
   "language": "python",
   "name": "python3"
  },
  "language_info": {
   "codemirror_mode": {
    "name": "ipython",
    "version": 2
   },
   "file_extension": ".py",
   "mimetype": "text/x-python",
   "name": "python",
   "nbconvert_exporter": "python",
   "pygments_lexer": "ipython2",
   "version": "2.7.6"
  }
 },
 "nbformat": 4,
 "nbformat_minor": 0
}
