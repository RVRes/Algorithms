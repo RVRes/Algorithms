{
 "cells": [
  {
   "cell_type": "code",
   "execution_count": null,
   "outputs": [],
   "source": [
    "# Bounded semaphores & Barriers\n",
    "# https://superfastpython.com/thread-barrier-in-python/\n",
    "# https://stepik.org/lesson/628338/step/1?unit=624218"
   ],
   "metadata": {
    "collapsed": false
   }
  },
  {
   "cell_type": "code",
   "execution_count": 1,
   "outputs": [
    {
     "name": "stdout",
     "output_type": "stream",
     "text": [
      "[thr-0]\n",
      "[thr-1]\n",
      "[thr-2]\n",
      "[thr-3]\n",
      "[thr-4]\n",
      "[thr-5]\n",
      "[thr-6]\n",
      "[thr-7]\n",
      "[thr-8]\n",
      "[thr-9]\n"
     ]
    }
   ],
   "source": [
    "# Bounded semaphore allows to limit number of concurrent threads.\n",
    "# Treads start by group of 5\n",
    "\n",
    "import time\n",
    "from threading import Thread, BoundedSemaphore, current_thread\n",
    "\n",
    "max_connections = 5\n",
    "pool = BoundedSemaphore(value=max_connections)\n",
    "\n",
    "def test():\n",
    "    with pool:\n",
    "        print(current_thread().name)\n",
    "        time.sleep(6)\n",
    "\n",
    "for i in range(10):\n",
    "    Thread(target=test, name=f'[thr-{i}]').start()\n",
    "\n",
    "time.sleep(7)  # needed only in Jupiter"
   ],
   "metadata": {
    "collapsed": false,
    "ExecuteTime": {
     "end_time": "2023-05-16T05:20:41.543353403Z",
     "start_time": "2023-05-16T05:20:34.551684296Z"
    }
   }
  },
  {
   "cell_type": "code",
   "execution_count": 1,
   "outputs": [
    {
     "name": "stdout",
     "output_type": "stream",
     "text": [
      "Thread [thr-3] run (Tue May 16 00:38:11 2023)\n",
      "Thread [thr-5] run (Tue May 16 00:38:11 2023)\n",
      "Thread [thr-4] run (Tue May 16 00:38:12 2023)\n",
      "Thread [thr-7] run (Tue May 16 00:38:15 2023)\n",
      "Thread [thr-1] run (Tue May 16 00:38:16 2023)\n",
      "Thread [thr-1] crossed barrier (Tue May 16 00:38:16 2023)\n",
      "Thread [thr-3] crossed barrier (Tue May 16 00:38:16 2023)\n",
      "Thread [thr-7] crossed barrier (Tue May 16 00:38:16 2023)\n",
      "Thread [thr-5] crossed barrier (Tue May 16 00:38:16 2023)\n",
      "Thread [thr-9] run (Tue May 16 00:38:16 2023)\n",
      "Thread [thr-4] crossed barrier (Tue May 16 00:38:16 2023)\n",
      "Thread [thr-6] run (Tue May 16 00:38:16 2023)\n",
      "Thread [thr-8] run (Tue May 16 00:38:16 2023)\n",
      "Thread [thr-0] run (Tue May 16 00:38:19 2023)\n",
      "Thread [thr-2] run (Tue May 16 00:38:20 2023)\n",
      "Thread [thr-2] crossed barrier (Tue May 16 00:38:20 2023)\n",
      "Thread [thr-6] crossed barrier (Tue May 16 00:38:20 2023)\n",
      "Thread [thr-9] crossed barrier (Tue May 16 00:38:20 2023)\n",
      "Thread [thr-0] crossed barrier (Tue May 16 00:38:20 2023)\n",
      "Thread [thr-8] crossed barrier (Tue May 16 00:38:20 2023)\n"
     ]
    }
   ],
   "source": [
    "# Barrier holds processes execution until defined number of processes reach .wait(method)\n",
    "import time\n",
    "from random import randint\n",
    "from threading import Thread, Barrier, current_thread\n",
    "\n",
    "def test(barrier):\n",
    "    slp = randint(5, 15)\n",
    "    name = current_thread().name\n",
    "    time.sleep(slp)\n",
    "    print(f'Thread [{name}] run ({time.ctime()})')\n",
    "    barrier.wait()\n",
    "    print(f'Thread [{name}] crossed barrier ({time.ctime()})')\n",
    "\n",
    "bar = Barrier(5)\n",
    "for i in range(10):\n",
    "    Thread(target=test, name=f'thr-{i}', args=(bar,)).start()\n",
    "\n",
    "time.sleep(17)\n"
   ],
   "metadata": {
    "collapsed": false,
    "ExecuteTime": {
     "end_time": "2023-05-16T05:38:22.031210419Z",
     "start_time": "2023-05-16T05:38:05.035524273Z"
    }
   }
  },
  {
   "cell_type": "code",
   "execution_count": 1,
   "outputs": [
    {
     "name": "stdout",
     "output_type": "stream",
     "text": [
      "Thread 0 done, got: 3.538275377239981\n",
      "Thread 2 done, got: 5.7696702241334314\n",
      "Thread 1 done, got: 6.009933959586929\n",
      "Thread 4 done, got: 8.625346656776946\n",
      "Thread 3 done, got: 9.316501841938434\n",
      "All threads have their result\n"
     ]
    }
   ],
   "source": [
    "# example of using a barrier with an action\n",
    "from time import sleep\n",
    "from random import random\n",
    "from threading import Thread\n",
    "from threading import Barrier\n",
    "\n",
    "# action once all threads reach the barrier\n",
    "def report():\n",
    "    # report once all threads are done\n",
    "    print('All threads have their result')\n",
    "\n",
    "# target function to prepare some work\n",
    "def task(barrier, number):\n",
    "    # generate a unique value\n",
    "    value = random() * 10\n",
    "    # block for a moment\n",
    "    sleep(value)\n",
    "    # report result\n",
    "    print(f'Thread {number} done, got: {value}')\n",
    "    # wait on all other threads to complete\n",
    "    barrier.wait()\n",
    "\n",
    "# create a barrier\n",
    "barrier = Barrier(5, action=report)\n",
    "# create the worker threads\n",
    "for i in range(5):\n",
    "    # start a new thread to perform some work\n",
    "    worker = Thread(target=task, args=(barrier, i))\n",
    "    worker.start()\n",
    "\n",
    "sleep(12)\n",
    "\n",
    "# wait for all threads to finish..."
   ],
   "metadata": {
    "collapsed": false,
    "ExecuteTime": {
     "end_time": "2023-05-16T05:48:17.018750208Z",
     "start_time": "2023-05-16T05:48:05.023458355Z"
    }
   }
  }
 ],
 "metadata": {
  "kernelspec": {
   "display_name": "Python 3",
   "language": "python",
   "name": "python3"
  },
  "language_info": {
   "codemirror_mode": {
    "name": "ipython",
    "version": 2
   },
   "file_extension": ".py",
   "mimetype": "text/x-python",
   "name": "python",
   "nbconvert_exporter": "python",
   "pygments_lexer": "ipython2",
   "version": "2.7.6"
  }
 },
 "nbformat": 4,
 "nbformat_minor": 0
}
