{
 "cells": [
  {
   "cell_type": "code",
   "execution_count": 7,
   "metadata": {
    "collapsed": true,
    "ExecuteTime": {
     "end_time": "2023-05-14T05:00:46.809699763Z",
     "start_time": "2023-05-14T05:00:43.603510536Z"
    }
   },
   "outputs": [
    {
     "name": "stdout",
     "output_type": "stream",
     "text": [
      "1\n"
     ]
    },
    {
     "ename": "KeyboardInterrupt",
     "evalue": "",
     "output_type": "error",
     "traceback": [
      "\u001B[0;31m---------------------------------------------------------------------------\u001B[0m",
      "\u001B[0;31mKeyboardInterrupt\u001B[0m                         Traceback (most recent call last)",
      "Cell \u001B[0;32mIn[7], line 17\u001B[0m\n\u001B[1;32m     14\u001B[0m \u001B[38;5;28mprint\u001B[39m(geek)\n\u001B[1;32m     16\u001B[0m \u001B[38;5;66;03m# This thread will be blocked\u001B[39;00m\n\u001B[0;32m---> 17\u001B[0m \u001B[43mlock\u001B[49m\u001B[38;5;241;43m.\u001B[39;49m\u001B[43macquire\u001B[49m\u001B[43m(\u001B[49m\u001B[43m)\u001B[49m\n\u001B[1;32m     18\u001B[0m geek \u001B[38;5;241m=\u001B[39m geek \u001B[38;5;241m+\u001B[39m \u001B[38;5;241m2\u001B[39m\n\u001B[1;32m     19\u001B[0m lock\u001B[38;5;241m.\u001B[39mrelease()\n",
      "\u001B[0;31mKeyboardInterrupt\u001B[0m: "
     ]
    }
   ],
   "source": [
    "import threading\n",
    "\n",
    "\n",
    "# initializing the shared resource\n",
    "geek = 0\n",
    "\n",
    "# creating a Lock object\n",
    "lock = threading.Lock()\n",
    "\n",
    "# the below thread is accessing the\n",
    "# shared resource\n",
    "lock.acquire()\n",
    "geek = geek + 1\n",
    "print(geek)\n",
    "\n",
    "# This thread will be blocked\n",
    "lock.acquire()\n",
    "geek = geek + 2\n",
    "lock.release()\n",
    "\n",
    "# displaying t\n",
    "print(geek)"
   ]
  }
 ],
 "metadata": {
  "kernelspec": {
   "display_name": "Python 3",
   "language": "python",
   "name": "python3"
  },
  "language_info": {
   "codemirror_mode": {
    "name": "ipython",
    "version": 2
   },
   "file_extension": ".py",
   "mimetype": "text/x-python",
   "name": "python",
   "nbconvert_exporter": "python",
   "pygments_lexer": "ipython2",
   "version": "2.7.6"
  }
 },
 "nbformat": 4,
 "nbformat_minor": 0
}
