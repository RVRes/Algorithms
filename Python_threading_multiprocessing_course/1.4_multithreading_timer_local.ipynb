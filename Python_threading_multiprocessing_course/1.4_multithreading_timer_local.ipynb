{
 "cells": [
  {
   "cell_type": "code",
   "execution_count": null,
   "metadata": {
    "collapsed": true
   },
   "outputs": [],
   "source": [
    "# Timer in threading\n",
    "# https://stepik.org/lesson/628337/step/1?unit=624217\n",
    "# Allows to start thread after delay. Nonblocking."
   ]
  },
  {
   "cell_type": "code",
   "execution_count": 1,
   "outputs": [
    {
     "name": "stdout",
     "output_type": "stream",
     "text": [
      "main\n",
      "main\n",
      "main\n",
      "main\n",
      "main\n",
      "test\n",
      "main\n",
      "test\n",
      "test\n",
      "main\n",
      "test\n",
      "test\n",
      "main\n",
      "test\n",
      "test\n",
      "main\n",
      "test\n",
      "test\n",
      "main\n",
      "test\n"
     ]
    },
    {
     "ename": "KeyboardInterrupt",
     "evalue": "",
     "output_type": "error",
     "traceback": [
      "\u001B[0;31m---------------------------------------------------------------------------\u001B[0m",
      "\u001B[0;31mKeyboardInterrupt\u001B[0m                         Traceback (most recent call last)",
      "Cell \u001B[0;32mIn[1], line 13\u001B[0m\n\u001B[1;32m     11\u001B[0m \u001B[38;5;28;01mwhile\u001B[39;00m \u001B[38;5;28;01mTrue\u001B[39;00m:\n\u001B[1;32m     12\u001B[0m     \u001B[38;5;28mprint\u001B[39m(\u001B[38;5;124m'\u001B[39m\u001B[38;5;124mmain\u001B[39m\u001B[38;5;124m'\u001B[39m)\n\u001B[0;32m---> 13\u001B[0m     time\u001B[38;5;241m.\u001B[39msleep(\u001B[38;5;241m2\u001B[39m)\n",
      "\u001B[0;31mKeyboardInterrupt\u001B[0m: "
     ]
    }
   ],
   "source": [
    "import threading\n",
    "import time\n",
    "\n",
    "def test():\n",
    "    while True:\n",
    "        print('test')\n",
    "        time.sleep(1)\n",
    "\n",
    "threading.Timer(10, test).start()\n",
    "\n",
    "while True:\n",
    "    print('main')\n",
    "    time.sleep(2)"
   ],
   "metadata": {
    "collapsed": false,
    "ExecuteTime": {
     "end_time": "2023-05-16T04:41:57.795535192Z",
     "start_time": "2023-05-16T04:41:38.623800638Z"
    }
   }
  },
  {
   "cell_type": "code",
   "execution_count": 1,
   "outputs": [
    {
     "name": "stdout",
     "output_type": "stream",
     "text": [
      "main\n",
      "main\n",
      "main\n"
     ]
    }
   ],
   "source": [
    "# .cancel() allows to cancel thread before it starts.\n",
    "import threading\n",
    "import time\n",
    "\n",
    "def test():\n",
    "    while True:\n",
    "        print('test')\n",
    "        time.sleep(1)\n",
    "\n",
    "thr = threading.Timer(5, test)\n",
    "thr.start()\n",
    "\n",
    "for _ in range(3):\n",
    "    print('main')\n",
    "    time.sleep(1)\n",
    "thr.cancel()\n",
    "time.sleep(4)"
   ],
   "metadata": {
    "collapsed": false,
    "ExecuteTime": {
     "end_time": "2023-05-16T04:45:45.587534121Z",
     "start_time": "2023-05-16T04:45:38.599802768Z"
    }
   }
  },
  {
   "cell_type": "code",
   "execution_count": 1,
   "outputs": [
    {
     "name": "stderr",
     "output_type": "stream",
     "text": [
      "(MainThread) No value yet\n",
      "(MainThread) value=999\n",
      "(Thread-5 (f)) No value yet\n",
      "(Thread-6 (f)) No value yet\n",
      "(Thread-5 (f)) value=82\n",
      "(Thread-6 (f)) value=28\n"
     ]
    }
   ],
   "source": [
    "# The local() function creates an object capable of hiding values from view in separate threads\n",
    "import threading\n",
    "import logging\n",
    "import random\n",
    "\n",
    "logging.basicConfig(level=logging.DEBUG,\n",
    "                    format='(%(threadName)-0s) %(message)s',)\n",
    "\n",
    "def show(d):\n",
    "    try:\n",
    "        val = d.val\n",
    "    except AttributeError:\n",
    "        logging.debug('No value yet')\n",
    "    else:\n",
    "        logging.debug('value=%s', val)\n",
    "\n",
    "def f(d):\n",
    "    show(d)\n",
    "    d.val = random.randint(1, 100)\n",
    "    show(d)\n",
    "\n",
    "if __name__ == '__main__':\n",
    "    d = threading.local()\n",
    "    show(d)\n",
    "    d.val = 999\n",
    "    show(d)\n",
    "\n",
    "    for i in range(2):\n",
    "        t = threading.Thread(target=f, args=(d,))\n",
    "        t.start()"
   ],
   "metadata": {
    "collapsed": false,
    "ExecuteTime": {
     "end_time": "2023-05-16T04:58:08.132275676Z",
     "start_time": "2023-05-16T04:58:08.131301544Z"
    }
   }
  },
  {
   "cell_type": "code",
   "execution_count": 2,
   "outputs": [
    {
     "name": "stdout",
     "output_type": "stream",
     "text": [
      "t1: 111\n",
      "t1:  111\n",
      "t2: 222\n",
      "t2:  222_2\n"
     ]
    }
   ],
   "source": [
    "import threading\n",
    "\n",
    "data = threading.local()\n",
    "\n",
    "def get():\n",
    "    print(data.value)\n",
    "\n",
    "def t1():\n",
    "    data.value = 111\n",
    "    print('t1: ', end='')\n",
    "    get()\n",
    "    print('t1: ', data.value)\n",
    "\n",
    "def t2():\n",
    "    data.value = 222\n",
    "    print('t2: ', end='')\n",
    "    get()\n",
    "    data.v2 = '222_2'\n",
    "    print('t2: ', data.v2)\n",
    "\n",
    "threading.Thread(target=t1).start()\n",
    "threading.Thread(target=t2).start()\n"
   ],
   "metadata": {
    "collapsed": false,
    "ExecuteTime": {
     "end_time": "2023-05-16T05:06:56.134613462Z",
     "start_time": "2023-05-16T05:06:56.097154140Z"
    }
   }
  }
 ],
 "metadata": {
  "kernelspec": {
   "display_name": "Python 3",
   "language": "python",
   "name": "python3"
  },
  "language_info": {
   "codemirror_mode": {
    "name": "ipython",
    "version": 2
   },
   "file_extension": ".py",
   "mimetype": "text/x-python",
   "name": "python",
   "nbconvert_exporter": "python",
   "pygments_lexer": "ipython2",
   "version": "2.7.6"
  }
 },
 "nbformat": 4,
 "nbformat_minor": 0
}
