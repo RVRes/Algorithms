{
 "cells": [
  {
   "cell_type": "code",
   "execution_count": null,
   "metadata": {
    "collapsed": true
   },
   "outputs": [],
   "source": [
    "# multithreading Condition & Event\n",
    "# https://stepik.org/lesson/628339/step/1?unit=624219"
   ]
  },
  {
   "cell_type": "code",
   "execution_count": 1,
   "outputs": [
    {
     "name": "stdout",
     "output_type": "stream",
     "text": [
      "test\n",
      "test\n",
      "test\n"
     ]
    }
   ],
   "source": [
    "# Event (set / clear) allows to enable/ disable event.wait()\n",
    "\n",
    "import time\n",
    "import threading\n",
    "\n",
    "event = threading.Event()\n",
    "\n",
    "def test():\n",
    "    while True:\n",
    "        event.wait()\n",
    "        print('test')\n",
    "        time.sleep(2)\n",
    "\n",
    "event.clear()\n",
    "threading.Thread(target=test).start()\n",
    "\n",
    "time.sleep(10)\n",
    "event.set()\n",
    "time.sleep(5)\n",
    "event.clear()\n",
    "time.sleep(5)"
   ],
   "metadata": {
    "collapsed": false,
    "ExecuteTime": {
     "end_time": "2023-05-16T06:16:54.527680030Z",
     "start_time": "2023-05-16T06:16:34.547694009Z"
    }
   }
  },
  {
   "cell_type": "code",
   "execution_count": 2,
   "outputs": [
    {
     "name": "stdout",
     "output_type": "stream",
     "text": [
      "Get Event!\n",
      "t1: 1\n",
      "t1: 2\n",
      "t1: 3\n",
      "t1: 4\n",
      "t1: 5\n",
      "t1: 6\n",
      "t1: 7\n",
      "t1: 8\n",
      "t1: 9\n",
      "Get Event!\n",
      "t1: 11\n",
      "t1: 12\n",
      "t1: 13\n",
      "t1: 14\n",
      "t1: 15\n",
      "t1: 16\n",
      "t1: 17\n",
      "t1: 18\n",
      "t1: 19\n",
      "Get Event!\n",
      "t1: 21\n",
      "t1: 22\n",
      "t1: 23\n",
      "t1: 24\n",
      "t1: 25\n",
      "t1: 26\n",
      "t1: 27\n",
      "t1: 28\n",
      "t1: 29\n",
      "Get Event!\n",
      "t1: 31\n",
      "t1: 32\n",
      "t1: 33\n",
      "t1: 34\n",
      "t1: 35\n",
      "t1: 36\n",
      "t1: 37\n",
      "t1: 38\n",
      "t1: 39\n",
      "Get Event!\n",
      "t1: 41\n",
      "t1: 42\n",
      "t1: 43\n",
      "t1: 44\n",
      "t1: 45\n",
      "t1: 46\n",
      "t1: 47\n",
      "t1: 48\n",
      "t1: 49\n"
     ]
    }
   ],
   "source": [
    "# Condition - similar to event, but resets its state after each passed wait().\n",
    "# .notify(n- threads to notify - default = 1), .notify_all()\n",
    "\n",
    "import time\n",
    "import threading\n",
    "\n",
    "def t1():\n",
    "    while True:\n",
    "        with cond:\n",
    "            cond.wait()\n",
    "            print('Get Event!')\n",
    "\n",
    "def t2():\n",
    "    for i in range(200):\n",
    "        if i%10 == 0:\n",
    "            with cond:\n",
    "                cond.notify()\n",
    "        else:\n",
    "            print(f't1: {i}')\n",
    "        time.sleep(0.2)\n",
    "\n",
    "cond = threading.Condition()\n",
    "threading.Thread(target=t1).start()\n",
    "threading.Thread(target=t2).start()\n",
    "\n",
    "time.sleep(10)"
   ],
   "metadata": {
    "collapsed": false,
    "ExecuteTime": {
     "end_time": "2023-05-16T06:35:35.035067755Z",
     "start_time": "2023-05-16T06:35:25.025421932Z"
    }
   }
  }
 ],
 "metadata": {
  "kernelspec": {
   "display_name": "Python 3",
   "language": "python",
   "name": "python3"
  },
  "language_info": {
   "codemirror_mode": {
    "name": "ipython",
    "version": 2
   },
   "file_extension": ".py",
   "mimetype": "text/x-python",
   "name": "python",
   "nbconvert_exporter": "python",
   "pygments_lexer": "ipython2",
   "version": "2.7.6"
  }
 },
 "nbformat": 4,
 "nbformat_minor": 0
}
