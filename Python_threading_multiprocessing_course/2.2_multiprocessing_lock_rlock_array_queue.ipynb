{
 "cells": [
  {
   "cell_type": "code",
   "execution_count": null,
   "metadata": {
    "collapsed": true
   },
   "outputs": [],
   "source": [
    "# https://stepik.org/lesson/628341/step/1?unit=624221"
   ]
  },
  {
   "cell_type": "code",
   "execution_count": 1,
   "outputs": [
    {
     "name": "stdout",
     "output_type": "stream",
     "text": [
      "Process [Process-1] started\n"
     ]
    }
   ],
   "source": [
    "# Because we have not released Lock, 2nd process could not start.\n",
    "# We can release such lock from anywhere, for example from the main process in interactive mode\n",
    "import multiprocessing\n",
    "import time\n",
    "\n",
    "lock = multiprocessing.Lock()\n",
    "\n",
    "def get_value(l):\n",
    "    l.acquire()\n",
    "    pr_name = multiprocessing.current_process().name\n",
    "    print(f'Process [{pr_name}] started')\n",
    "\n",
    "multiprocessing.Process(target=get_value, args=(lock,)).start()\n",
    "multiprocessing.Process(target=get_value, args=(lock,)).start()\n",
    "time.sleep(1)  # this is needed for Jupiter (it stops output after main process ends)"
   ],
   "metadata": {
    "collapsed": false,
    "ExecuteTime": {
     "end_time": "2023-05-31T04:08:44.297476647Z",
     "start_time": "2023-05-31T04:08:43.275395001Z"
    }
   }
  },
  {
   "cell_type": "code",
   "execution_count": 2,
   "outputs": [
    {
     "name": "stdout",
     "output_type": "stream",
     "text": [
      "Process [Process-3] started\n"
     ]
    }
   ],
   "source": [
    "# RLock - similar to previous example, but we can release lock only from process where it has been acquired.\n",
    "import multiprocessing\n",
    "import time\n",
    "\n",
    "lock = multiprocessing.RLock()\n",
    "\n",
    "def get_value(l):\n",
    "    l.acquire()\n",
    "    pr_name = multiprocessing.current_process().name\n",
    "    print(f'Process [{pr_name}] started')\n",
    "\n",
    "multiprocessing.Process(target=get_value, args=(lock,)).start()\n",
    "multiprocessing.Process(target=get_value, args=(lock,)).start()\n",
    "time.sleep(1)  # this is needed for Jupiter (it stops output after main process ends)"
   ],
   "metadata": {
    "collapsed": false,
    "ExecuteTime": {
     "end_time": "2023-05-31T04:11:42.312913026Z",
     "start_time": "2023-05-31T04:11:41.294224998Z"
    }
   }
  },
  {
   "cell_type": "code",
   "execution_count": 5,
   "outputs": [
    {
     "name": "stdout",
     "output_type": "stream",
     "text": [
      "<SynchronizedArray wrapper for <multiprocessing.sharedctypes.c_int_Array_10 object at 0x7f96542f0c20>>\n",
      "[0, 1, 2, 3, 4, 5, 6, 7, 8, 9]\n",
      "array[0] = 3, time = Wed May 31 00:37:28 2023\n",
      "array[1] = 0, time = Wed May 31 00:37:28 2023\n",
      "array[2] = 5, time = Wed May 31 00:37:28 2023\n",
      "array[3] = 1, time = Wed May 31 00:37:28 2023\n",
      "array[4] = 3, time = Wed May 31 00:37:28 2023\n",
      "array[5] = 3, time = Wed May 31 00:37:28 2023\n",
      "array[6] = 3, time = Wed May 31 00:37:28 2023\n",
      "array[7] = 1, time = Wed May 31 00:37:28 2023\n",
      "array[8] = 5, time = Wed May 31 00:37:28 2023\n",
      "array[9] = 5, time = Wed May 31 00:37:28 2023\n",
      "[3, 0, 5, 1, 3, 3, 3, 1, 5, 5]\n"
     ]
    }
   ],
   "source": [
    "# The multiprocessing.Array class allows to create shared arrays between multiple processes.\n",
    "# A shared array is an array that can be accessed and modified by different processes concurrently.\n",
    "# This can be beneficial when you need to share large data structures, such as arrays,\n",
    "# between processes without incurring the overhead of inter-process communication.\n",
    "\n",
    "# If we don't use locker here resulted array still be correctly filled (because the Array is concurrent safe),\n",
    "# but time.sleep will count time simultaneously for all processes.\n",
    "\n",
    "import multiprocessing\n",
    "import random\n",
    "import time\n",
    "\n",
    "def add_value(locker, array, index):\n",
    "    with locker:\n",
    "        num = random.randint(0, 5)\n",
    "        vtime = time.ctime()\n",
    "        array[index] = num\n",
    "        print(f'array[{index}] = {num}, time = {vtime}')\n",
    "        time.sleep(num)\n",
    "\n",
    "\n",
    "\n",
    "arr = multiprocessing.Array('i', range(10))\n",
    "print(arr)\n",
    "print(list(arr))\n",
    "lock = multiprocessing.Lock()\n",
    "processes = []\n",
    "\n",
    "for i in range(10):\n",
    "    pr = multiprocessing.Process(target=add_value, args=(lock, arr, i,))\n",
    "    processes.append(pr)\n",
    "    pr.start()\n",
    "\n",
    "for pr in processes:\n",
    "    pr.join()\n",
    "\n",
    "print(list(arr))"
   ],
   "metadata": {
    "collapsed": false,
    "ExecuteTime": {
     "end_time": "2023-05-31T05:37:33.912901165Z",
     "start_time": "2023-05-31T05:37:28.852005708Z"
    }
   }
  },
  {
   "cell_type": "code",
   "execution_count": 6,
   "outputs": [
    {
     "name": "stdout",
     "output_type": "stream",
     "text": [
      "test\n"
     ]
    }
   ],
   "source": [
    "# The multiprocessing.Queue is designed to be used in a multi-process environment,\n",
    "# where one process can put items into the queue while another process can retrieve them.\n",
    "\n",
    "import multiprocessing\n",
    "\n",
    "def get_text(q):\n",
    "    q.put('test')\n",
    "\n",
    "queue = multiprocessing.Queue()\n",
    "pr = multiprocessing.Process(target=get_text, args=(queue,))\n",
    "\n",
    "pr.start()\n",
    "print(queue.get())\n",
    "pr.join()\n"
   ],
   "metadata": {
    "collapsed": false,
    "ExecuteTime": {
     "end_time": "2023-05-31T05:42:42.803409133Z",
     "start_time": "2023-05-31T05:42:42.770431969Z"
    }
   }
  },
  {
   "cell_type": "code",
   "execution_count": 10,
   "outputs": [
    {
     "name": "stdout",
     "output_type": "stream",
     "text": [
      "5\n",
      "0\n",
      "8\n",
      "5\n",
      "0\n",
      "2\n",
      "8\n",
      "8\n",
      "8\n",
      "7\n"
     ]
    }
   ],
   "source": [
    "import multiprocessing\n",
    "import random\n",
    "\n",
    "def get_text(q):\n",
    "    val = random.randint(0, 10)\n",
    "    q.put(str(val))\n",
    "\n",
    "queue = multiprocessing.Queue()\n",
    "processes = []\n",
    "\n",
    "for _ in range(10):\n",
    "    pr = multiprocessing.Process(target=get_text, args=(queue,))\n",
    "    processes.append(pr)\n",
    "    pr.start()\n",
    "\n",
    "for pr in processes:\n",
    "    pr.join()\n",
    "\n",
    "queue.put(None)  # sentinel value for iter()\n",
    "\n",
    "for elem in iter(queue.get, None):\n",
    "    print(elem)"
   ],
   "metadata": {
    "collapsed": false,
    "ExecuteTime": {
     "end_time": "2023-05-31T05:57:53.371908038Z",
     "start_time": "2023-05-31T05:57:53.323026805Z"
    }
   }
  }
 ],
 "metadata": {
  "kernelspec": {
   "display_name": "Python 3",
   "language": "python",
   "name": "python3"
  },
  "language_info": {
   "codemirror_mode": {
    "name": "ipython",
    "version": 2
   },
   "file_extension": ".py",
   "mimetype": "text/x-python",
   "name": "python",
   "nbconvert_exporter": "python",
   "pygments_lexer": "ipython2",
   "version": "2.7.6"
  }
 },
 "nbformat": 4,
 "nbformat_minor": 0
}
