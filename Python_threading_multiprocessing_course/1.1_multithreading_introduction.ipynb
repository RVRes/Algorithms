{
 "cells": [
  {
   "cell_type": "code",
   "execution_count": 1,
   "metadata": {
    "collapsed": true,
    "ExecuteTime": {
     "end_time": "2023-05-14T03:24:02.901648100Z",
     "start_time": "2023-05-14T03:24:02.900912144Z"
    }
   },
   "outputs": [],
   "source": [
    "# https://stepik.org/lesson/628334/step/1?unit=624214\n",
    "\n",
    "# Run this imports first! Warning - Jupiter doesn't\n",
    "# kill thread automatically - restart kernel.\n",
    "\n",
    "import time\n",
    "import threading"
   ]
  },
  {
   "cell_type": "code",
   "execution_count": 7,
   "outputs": [
    {
     "name": "stdout",
     "output_type": "stream",
     "text": [
      "[thr-1] - 1684025256.0348399\n"
     ]
    }
   ],
   "source": [
    "# Creating 1 thread\n",
    "\n",
    "def get_data(data):\n",
    "    print(f'[{threading.current_thread().name}] - {data}')\n",
    "\n",
    "\n",
    "threading.Thread(target=get_data, args=(str(time.time()),),\n",
    "                 name='thr-1').start()"
   ],
   "metadata": {
    "collapsed": false,
    "ExecuteTime": {
     "end_time": "2023-05-14T00:47:36.082950479Z",
     "start_time": "2023-05-14T00:47:36.037965948Z"
    }
   }
  },
  {
   "cell_type": "code",
   "execution_count": 2,
   "outputs": [
    {
     "name": "stdout",
     "output_type": "stream",
     "text": [
      "[thr-1] - 1684034405.8385913\n",
      "<class 'threading.Thread'> <Thread(thr-1, started 139725369218624)>\n",
      "current: 0\n",
      "[thr-1] - 1684034405.8385913\n",
      "current: 1\n",
      "[thr-1] - 1684034405.8385913\n",
      "current: 2\n",
      "[thr-1] - 1684034405.8385913\n",
      "current: 3\n",
      "[thr-1] - 1684034405.8385913\n",
      "current: 4\n",
      "[thr-1] - 1684034405.8385913\n"
     ]
    }
   ],
   "source": [
    "# Adding concurrent main thread. Two threads are working in the same time.\n",
    "\n",
    "def get_data(data):\n",
    "    while True:\n",
    "        print(f'[{threading.current_thread().name}] - {data}')\n",
    "        time.sleep(1)\n",
    "\n",
    "\n",
    "thr = threading.Thread(target=get_data, args=(str(time.time()),), name='thr-1')\n",
    "thr.start()\n",
    "print(type(thr), thr)\n",
    "\n",
    "for i in range(5):\n",
    "    print(f'current: {i}')\n",
    "    time.sleep(1)"
   ],
   "metadata": {
    "collapsed": false,
    "ExecuteTime": {
     "end_time": "2023-05-14T03:20:10.857341373Z",
     "start_time": "2023-05-14T03:20:05.844233744Z"
    }
   }
  },
  {
   "cell_type": "code",
   "execution_count": 13,
   "outputs": [
    {
     "name": "stdout",
     "output_type": "stream",
     "text": [
      "[thr-1] - 1684027824.259914\n",
      "[thr-1] - 1684028239.6220555\n",
      "<class 'threading.Thread'> <Thread(thr-1, started 140596173837888)>\n",
      "main thread name: MainThread\n",
      "changed main thread name: thr-main\n",
      "current: 0\n",
      "[thr-1] - 1684027207.4079592\n",
      "[thr-1] - 1684027842.0018349\n",
      "[thr-1] - 1684027699.9439802\n",
      "[thr-1] - 1684027824.259914\n",
      "[thr-1] - 1684028239.6220555\n",
      "active threads: 13\n",
      "enumerate: [<_MainThread(thr-main, started 140596774252544)>, <Thread(IOPub, started daemon 140596626847296)>, <Heartbeat(Heartbeat, started daemon 140596618454592)>, <Thread(Thread-3 (_watch_pipe_fd), started daemon 140596593276480)>, <Thread(Thread-4 (_watch_pipe_fd), started daemon 140596584883776)>, <ControlThread(Control, started daemon 140596576491072)>, <HistorySavingThread(IPythonHistorySavingThread, started 140596224194112)>, <ParentPollerUnix(Thread-2, started daemon 140596215801408)>, <Thread(thr-1, started 140596207408704)>, <Thread(thr-1, started 140596199016000)>, <Thread(thr-1, started 140596190623296)>, <Thread(thr-1, started 140596182230592)>, <Thread(thr-1, started 140596173837888)>]\n",
      "thr-1 is alive: True\n",
      "current: 1\n",
      "[thr-1] - 1684027207.4079592\n",
      "[thr-1] - 1684027842.0018349\n",
      "[thr-1] - 1684027699.9439802\n",
      "[thr-1] - 1684027824.259914\n",
      "[thr-1] - 1684028239.6220555\n",
      "current: 2\n",
      "[thr-1] - 1684027207.4079592\n",
      "[thr-1] - 1684027842.0018349\n",
      "[thr-1] - 1684027699.9439802\n",
      "[thr-1] - 1684027824.259914\n",
      "[thr-1] - 1684028239.6220555\n",
      "current: 3\n",
      "[thr-1] - 1684027207.4079592\n",
      "[thr-1] - 1684027842.0018349\n",
      "[thr-1] - 1684027699.9439802\n"
     ]
    },
    {
     "ename": "KeyboardInterrupt",
     "evalue": "",
     "output_type": "error",
     "traceback": [
      "\u001B[0;31m---------------------------------------------------------------------------\u001B[0m",
      "\u001B[0;31mKeyboardInterrupt\u001B[0m                         Traceback (most recent call last)",
      "Cell \u001B[0;32mIn[13], line 19\u001B[0m\n\u001B[1;32m     17\u001B[0m \u001B[38;5;28;01mfor\u001B[39;00m i \u001B[38;5;129;01min\u001B[39;00m \u001B[38;5;28mrange\u001B[39m(\u001B[38;5;241m20\u001B[39m):\n\u001B[1;32m     18\u001B[0m     \u001B[38;5;28mprint\u001B[39m(\u001B[38;5;124mf\u001B[39m\u001B[38;5;124m'\u001B[39m\u001B[38;5;124mcurrent: \u001B[39m\u001B[38;5;132;01m{\u001B[39;00mi\u001B[38;5;132;01m}\u001B[39;00m\u001B[38;5;124m'\u001B[39m)\n\u001B[0;32m---> 19\u001B[0m     \u001B[43mtime\u001B[49m\u001B[38;5;241;43m.\u001B[39;49m\u001B[43msleep\u001B[49m\u001B[43m(\u001B[49m\u001B[38;5;241;43m1\u001B[39;49m\u001B[43m)\u001B[49m\n\u001B[1;32m     21\u001B[0m     \u001B[38;5;28;01mif\u001B[39;00m i \u001B[38;5;241m%\u001B[39m \u001B[38;5;241m10\u001B[39m \u001B[38;5;241m==\u001B[39m \u001B[38;5;241m0\u001B[39m:\n\u001B[1;32m     22\u001B[0m         \u001B[38;5;28mprint\u001B[39m(\u001B[38;5;124m'\u001B[39m\u001B[38;5;124mactive threads:\u001B[39m\u001B[38;5;124m'\u001B[39m, threading\u001B[38;5;241m.\u001B[39mactive_count())\n",
      "\u001B[0;31mKeyboardInterrupt\u001B[0m: "
     ]
    }
   ],
   "source": [
    "# Adding check that thread is alive on step multiple 10, number active threads, threads list.\n",
    "# Change name of main_thread.\n",
    "\n",
    "def get_data(data):\n",
    "    while True:\n",
    "        print(f'[{threading.current_thread().name}] - {data}')\n",
    "        time.sleep(1)\n",
    "\n",
    "\n",
    "thr = threading.Thread(target=get_data, args=(str(time.time()),), name='thr-1')\n",
    "thr.start()\n",
    "print(type(thr), thr)\n",
    "print('main thread name:', threading.main_thread().name)\n",
    "threading.main_thread().name = 'thr-main'\n",
    "print('changed main thread name:', threading.main_thread().name)\n",
    "\n",
    "for i in range(20):\n",
    "    print(f'current: {i}')\n",
    "    time.sleep(1)\n",
    "\n",
    "    if i % 10 == 0:\n",
    "        print('active threads:', threading.active_count())\n",
    "        print('enumerate:', threading.enumerate())\n",
    "        print(f'{thr.name} is alive:', thr.is_alive())"
   ],
   "metadata": {
    "collapsed": false,
    "ExecuteTime": {
     "end_time": "2023-05-14T01:37:23.252753195Z",
     "start_time": "2023-05-14T01:37:19.622860540Z"
    }
   }
  },
  {
   "cell_type": "code",
   "execution_count": 2,
   "outputs": [
    {
     "name": "stdout",
     "output_type": "stream",
     "text": [
      "[thr-1] - 1684034654.7778935\n",
      "[thr-2] - 1684034654.7788837\n",
      "[thr-3] - 1684034654.7798479\n",
      "<Thread(thr-0, stopped 139935168312896)>\n",
      "<Thread(thr-1, started 139935168312896)>\n",
      "<Thread(thr-2, started 139935159920192)>\n",
      "<Thread(thr-3, started 139935151527488)>\n",
      "[thr-2] - 1684034654.7788837\n",
      "[thr-3] - 1684034654.7798479\n",
      "[thr-3] - 1684034654.7798479\n",
      "Finished\n"
     ]
    }
   ],
   "source": [
    "# Creating 4 threads and put i to the thread. Thread should report its name i-times.\n",
    "# When we aren't joining threads app will close immediately so each thread leaves only\n",
    "# one trace.\n",
    "\n",
    "def get_data(data, value):\n",
    "    for _ in range(value):\n",
    "        print(f'[{threading.current_thread().name}] - {data}')\n",
    "        time.sleep(1)\n",
    "\n",
    "\n",
    "thr_list = []\n",
    "\n",
    "for i in range(4):\n",
    "    thr = threading.Thread(target=get_data, args=(str(time.time()), i,),\n",
    "                           name=f'thr-{i}')\n",
    "    thr_list.append(thr)\n",
    "    thr.start()\n",
    "\n",
    "print(*thr_list, sep='\\n')\n",
    "\n",
    "for thread in thr_list:\n",
    "    thread.join()  # blocks next code execution until all threads finished.\n",
    "\n",
    "print('Finished')"
   ],
   "metadata": {
    "collapsed": false,
    "ExecuteTime": {
     "end_time": "2023-05-14T03:24:17.794123989Z",
     "start_time": "2023-05-14T03:24:14.780335395Z"
    }
   }
  }
 ],
 "metadata": {
  "kernelspec": {
   "display_name": "Python 3",
   "language": "python",
   "name": "python3"
  },
  "language_info": {
   "codemirror_mode": {
    "name": "ipython",
    "version": 2
   },
   "file_extension": ".py",
   "mimetype": "text/x-python",
   "name": "python",
   "nbconvert_exporter": "python",
   "pygments_lexer": "ipython2",
   "version": "2.7.6"
  }
 },
 "nbformat": 4,
 "nbformat_minor": 0
}
