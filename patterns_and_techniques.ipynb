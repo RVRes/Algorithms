{
 "cells": [
  {
   "cell_type": "code",
   "execution_count": 1,
   "metadata": {
    "collapsed": true,
    "ExecuteTime": {
     "end_time": "2023-05-14T09:40:13.225734685Z",
     "start_time": "2023-05-14T09:40:12.488269889Z"
    }
   },
   "outputs": [
    {
     "name": "stdout",
     "output_type": "stream",
     "text": [
      "url=https://httpbin.org/get args=() kwargs={}\n",
      "200\n"
     ]
    }
   ],
   "source": [
    "# Monkey patching technique\n",
    "# https://dzen.ru/a/ZEVtdWvVMkhyzu5L\n",
    "# Technique that allows to replace object behavior during execution.\n",
    "# It allows to replace a method in standard library class.\n",
    "\n",
    "import requests\n",
    "\n",
    "def new_get(self, url, *args, **kwargs):\n",
    "    print(f'url={url} args={args} kwargs={kwargs}')\n",
    "    return self.old_get(url, *args, **kwargs)\n",
    "\n",
    "requests.Session.old_get = requests.Session.get\n",
    "requests.Session.get = new_get\n",
    "\n",
    "session = requests.Session()\n",
    "response = session.get('https://httpbin.org/get')\n",
    "\n",
    "print(response.status_code)"
   ]
  }
 ],
 "metadata": {
  "kernelspec": {
   "display_name": "Python 3",
   "language": "python",
   "name": "python3"
  },
  "language_info": {
   "codemirror_mode": {
    "name": "ipython",
    "version": 2
   },
   "file_extension": ".py",
   "mimetype": "text/x-python",
   "name": "python",
   "nbconvert_exporter": "python",
   "pygments_lexer": "ipython2",
   "version": "2.7.6"
  }
 },
 "nbformat": 4,
 "nbformat_minor": 0
}
