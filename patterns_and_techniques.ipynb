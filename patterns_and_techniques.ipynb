{
 "cells": [
  {
   "cell_type": "code",
   "execution_count": 1,
   "metadata": {
    "collapsed": true,
    "ExecuteTime": {
     "end_time": "2023-05-14T09:40:13.225734685Z",
     "start_time": "2023-05-14T09:40:12.488269889Z"
    }
   },
   "outputs": [
    {
     "name": "stdout",
     "output_type": "stream",
     "text": [
      "url=https://httpbin.org/get args=() kwargs={}\n",
      "200\n"
     ]
    }
   ],
   "source": [
    "# Monkey patching technique\n",
    "# https://dzen.ru/a/ZEVtdWvVMkhyzu5L\n",
    "# Technique that allows to replace object behavior during execution.\n",
    "# It allows to override a method in standard library class.\n",
    "\n",
    "import requests\n",
    "\n",
    "def new_get(self, url, *args, **kwargs):\n",
    "    print(f'url={url} args={args} kwargs={kwargs}')\n",
    "    return self.old_get(url, *args, **kwargs)\n",
    "\n",
    "requests.Session.old_get = requests.Session.get\n",
    "requests.Session.get = new_get\n",
    "\n",
    "session = requests.Session()\n",
    "response = session.get('https://httpbin.org/get')\n",
    "\n",
    "print(response.status_code)"
   ]
  },
  {
   "cell_type": "code",
   "execution_count": null,
   "outputs": [],
   "source": [
    "# Singleton pattern\n",
    "# https://dzen.ru/a/ZET6LiBouEP3wo-7\n",
    "\n",
    "class Singleton:\n",
    "    __instance = None\n",
    "\n",
    "    def __new__(cls):\n",
    "        if cls.__instance is None:\n",
    "            cls.__instance = super().__new__(cls)\n",
    "        return cls.__instance"
   ],
   "metadata": {
    "collapsed": false
   }
  },
  {
   "cell_type": "code",
   "execution_count": null,
   "outputs": [],
   "source": [
    "# Factory pattern\n",
    "# https://dzen.ru/media/mb_magazine/-pattern-fabrika-v-python--kliuchevye-znaniia-dlia-nachinaiuscih-6444fec10ae8f9044cc9f429?from_embed=true\n",
    "# Factory is made by using separate class here.\n",
    "\n",
    "class Enemy:\n",
    "    def __init__(self, name, health, damage, speed):\n",
    "        self.name = name\n",
    "        self.health = health\n",
    "        self.damage = damage\n",
    "        self.speed = speed\n",
    "\n",
    "class Goblin(Enemy):\n",
    "    def __init__(self):\n",
    "        super().__init__('Goblin', 100, 10, 5)\n",
    "\n",
    "class Troll(Enemy):\n",
    "    def __init__(self):\n",
    "        super().__init__('Troll', 200, 20, 3)\n",
    "\n",
    "class EnemyFactory:\n",
    "    @staticmethod\n",
    "    def create_enemy(enemy_type):\n",
    "        if enemy_type == 'goblin':\n",
    "            return Goblin()\n",
    "        elif enemy_type == 'troll':\n",
    "            return Troll()\n",
    "        else:\n",
    "            raise ValueError('Wrong enemy type')\n",
    "\n",
    "factory = EnemyFactory()\n",
    "goblin = factory.create_enemy('goblin')\n",
    "# turn_result = hero.attack(goblin)\n",
    "# if turn_result = 'killed':\n",
    "#     print('Goblin is defeated')\n"
   ],
   "metadata": {
    "collapsed": false
   }
  },
  {
   "cell_type": "code",
   "execution_count": null,
   "outputs": [],
   "source": [
    "# Factory pattern\n",
    "# https://dzen.ru/media/mb_magazine/-pattern-fabrika-v-python--kliuchevye-znaniia-dlia-nachinaiuscih-6444fec10ae8f9044cc9f429?from_embed=true\n",
    "# Factory is a static method defined for a class of object you are creating.\n",
    "\n",
    "class Vehicle:\n",
    "    def __init__(self, name):\n",
    "        self.name = name\n",
    "\n",
    "    @staticmethod\n",
    "    def create_vehicle(name, vehicle_type):\n",
    "        if vehicle_type == 'car':\n",
    "            return Car(name)\n",
    "        elif vehicle_type == 'truck':\n",
    "            return Truck(name)\n",
    "        else:\n",
    "            raise  ValueError('Wrong vehicle type')\n",
    "\n",
    "class Car(Vehicle):\n",
    "    def __init__(self, name):\n",
    "        super().__init__(name)\n",
    "        self.type = 'car'\n",
    "\n",
    "class Truck(Vehicle):\n",
    "    def __init__(self, name):\n",
    "        super().__init__(name)\n",
    "        self.type = 'truck'\n",
    "\n",
    "car = Vehicle.create_vehicle(\"Toyota\", 'car')\n",
    "truck = Vehicle.create_vehicle('Ford', 'truck')\n"
   ],
   "metadata": {
    "collapsed": false
   }
  }
 ],
 "metadata": {
  "kernelspec": {
   "display_name": "Python 3",
   "language": "python",
   "name": "python3"
  },
  "language_info": {
   "codemirror_mode": {
    "name": "ipython",
    "version": 2
   },
   "file_extension": ".py",
   "mimetype": "text/x-python",
   "name": "python",
   "nbconvert_exporter": "python",
   "pygments_lexer": "ipython2",
   "version": "2.7.6"
  }
 },
 "nbformat": 4,
 "nbformat_minor": 0
}
