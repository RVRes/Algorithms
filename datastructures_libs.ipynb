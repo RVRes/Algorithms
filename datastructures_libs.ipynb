{
 "cells": [
  {
   "cell_type": "raw",
   "source": [
    " # https://dzen.ru/a/ZDAnzW3IxCOE-m5r"
   ],
   "metadata": {
    "collapsed": false
   }
  },
  {
   "cell_type": "code",
   "execution_count": 4,
   "outputs": [
    {
     "name": "stdout",
     "output_type": "stream",
     "text": [
      "\n",
      "          ______512____\n",
      "         /             \\\n",
      "    ___256__          _128\n",
      "   /        \\        /    \\\n",
      "  64         32     16     8\n",
      " /  \\       /\n",
      "4    2     1\n",
      "\n"
     ]
    }
   ],
   "source": [
    "from binarytree import build\n",
    "\n",
    "values = [512, 256, 128, 64, 32, 16, 8, 4, 2, 1]\n",
    "\n",
    "root = build(values)\n",
    "\n",
    "print(root)"
   ],
   "metadata": {
    "collapsed": false,
    "ExecuteTime": {
     "end_time": "2023-05-14T08:11:35.959145269Z",
     "start_time": "2023-05-14T08:11:35.916481672Z"
    }
   }
  },
  {
   "cell_type": "markdown",
   "source": [],
   "metadata": {
    "collapsed": false
   }
  },
  {
   "cell_type": "code",
   "execution_count": 7,
   "outputs": [
    {
     "data": {
      "text/plain": "'Digraph.gv.pdf'"
     },
     "execution_count": 7,
     "metadata": {},
     "output_type": "execute_result"
    }
   ],
   "source": [
    "# creates pdf with tree\n",
    "\n",
    "graph = root.graphviz()    # Generate a graphviz object\n",
    "graph.body              # Get the DOT body\n",
    "graph.render()"
   ],
   "metadata": {
    "collapsed": false,
    "ExecuteTime": {
     "end_time": "2023-05-14T08:18:33.538534729Z",
     "start_time": "2023-05-14T08:18:33.514101445Z"
    }
   }
  },
  {
   "cell_type": "code",
   "execution_count": null,
   "outputs": [],
   "source": [],
   "metadata": {
    "collapsed": false
   }
  },
  {
   "cell_type": "code",
   "execution_count": 10,
   "outputs": [
    {
     "data": {
      "text/plain": "<Figure size 640x480 with 1 Axes>",
      "image/png": "[encoded data removed]"
     },
     "metadata": {},
     "output_type": "display_data"
    }
   ],
   "source": [
    "import networkx as nx\n",
    "import matplotlib.pyplot as plt\n",
    "\n",
    "G = nx.DiGraph()\n",
    "\n",
    "G.add_node('A')\n",
    "G.add_node('B')\n",
    "G.add_node('C')\n",
    "\n",
    "G.add_edge('A', 'B')\n",
    "G.add_edge('B', 'C')\n",
    "G.add_edge('C', 'A')\n",
    "\n",
    "nx.draw_networkx(G, with_labels=True)\n",
    "plt.show()  # it works without plt. WHy do we need it?"
   ],
   "metadata": {
    "collapsed": false,
    "ExecuteTime": {
     "end_time": "2023-05-14T08:23:05.492202461Z",
     "start_time": "2023-05-14T08:23:05.360816545Z"
    }
   }
  },
  {
   "cell_type": "code",
   "execution_count": 11,
   "outputs": [
    {
     "name": "stdout",
     "output_type": "stream",
     "text": [
      "Working on 0\n",
      "Finished 0\n",
      "Working on 1\n",
      "Finished 1\n",
      "Working on 2\n",
      "Finished 2\n",
      "Working on 3\n",
      "Finished 3\n",
      "Working on 4\n",
      "Finished 4\n",
      "Working on 5\n",
      "Finished 5\n",
      "Working on 6\n",
      "Finished 6\n",
      "Working on 7\n",
      "Finished 7\n",
      "Working on 8\n",
      "Finished 8\n",
      "Working on 9\n",
      "Finished 9\n",
      "Working on 10\n",
      "Finished 10\n",
      "Working on 11\n",
      "Finished 11\n",
      "Working on 12\n",
      "Finished 12\n",
      "Working on 13\n",
      "Finished 13\n",
      "Working on 14\n",
      "Finished 14\n",
      "Working on 15\n",
      "Finished 15\n",
      "Working on 16\n",
      "Finished 16\n",
      "Working on 17\n",
      "Finished 17\n",
      "Working on 18\n",
      "Finished 18\n",
      "Working on 19\n",
      "Finished 19\n",
      "Working on 20\n",
      "Finished 20\n",
      "Working on 21\n",
      "Finished 21\n",
      "Working on 22\n",
      "Finished 22\n",
      "Working on 23\n",
      "Finished 23\n",
      "Working on 24\n",
      "Finished 24\n",
      "Working on 25\n",
      "Finished 25\n",
      "Working on 26\n",
      "Finished 26\n",
      "Working on 27\n",
      "Finished 27\n",
      "Working on 28\n",
      "Finished 28\n",
      "Working on 29\n",
      "Finished 29\n"
     ]
    }
   ],
   "source": [
    "import threading\n",
    "import queue\n",
    "\n",
    "q = queue.Queue()\n",
    "\n",
    "def worker():\n",
    "    while True:\n",
    "        item = q.get()\n",
    "        print(f'Working on {item}')\n",
    "        print(f'Finished {item}')\n",
    "        q.task_done()\n",
    "\n",
    "# Turn-on the worker thread.\n",
    "threading.Thread(target=worker, daemon=True).start()\n",
    "\n",
    "# Send thirty task requests to the worker.\n",
    "for item in range(30):\n",
    "    q.put(item)\n",
    "\n",
    "# Block until all tasks are done.\n",
    "q.join()"
   ],
   "metadata": {
    "collapsed": false,
    "ExecuteTime": {
     "end_time": "2023-05-14T08:26:04.018385635Z",
     "start_time": "2023-05-14T08:26:03.974951881Z"
    }
   }
  }
 ],
 "metadata": {
  "kernelspec": {
   "display_name": "Python 3",
   "language": "python",
   "name": "python3"
  },
  "language_info": {
   "codemirror_mode": {
    "name": "ipython",
    "version": 2
   },
   "file_extension": ".py",
   "mimetype": "text/x-python",
   "name": "python",
   "nbconvert_exporter": "python",
   "pygments_lexer": "ipython2",
   "version": "2.7.6"
  }
 },
 "nbformat": 4,
 "nbformat_minor": 0
}
