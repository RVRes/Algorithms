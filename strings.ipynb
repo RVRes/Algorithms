{
 "cells": [
  {
   "cell_type": "code",
   "execution_count": 1,
   "metadata": {
    "collapsed": true
   },
   "outputs": [
    {
     "name": "stdout",
     "output_type": "stream",
     "text": [
      "*d*%*d*#*d*\n",
      "dacabac\n"
     ]
    }
   ],
   "source": [
    "# strings could be encoded or decoded with standard library translate method\n",
    "source, dest, decoded, encoded = ('abcd', '*d%#', 'abacabadaba', '#*%*d*%')\n",
    "print(decoded.translate(str.maketrans(source, dest)))\n",
    "print(encoded.translate(str.maketrans(dest, source)))"
   ]
  },
  {
   "cell_type": "code",
   "execution_count": 16,
   "outputs": [
    {
     "name": "stdout",
     "output_type": "stream",
     "text": [
      "n=   1, 0001, 0001\n",
      "z=1.2e+01, 1e+01, 12.3 12.34\n",
      "z=12.34, 12.3, 12.340 12.340000\n"
     ]
    }
   ],
   "source": [
    "# formatted output\n",
    "# f'{value:{width}.{precision}}'\n",
    "# value is any expression that evaluates to a number\n",
    "# width specifies the number of characters used in total to display, \n",
    "# but if value needs more space than the width specifies then the additional space is used.\n",
    "# precision indicates the number of characters used after the decimal point\n",
    "n = 1\n",
    "print(f'{n=:4}, {n:04}, {str(n).zfill(4)}')\n",
    "z = 12.34\n",
    "print(f'{z=:.2}, {z:0.1}, {z:.3} {z:3}')\n",
    "# using the f (Fixed point) presentation type\n",
    "print(f'{z=:.2f}, {z:0.1f}, {z:.3f} {z:3f}')\n"
   ],
   "metadata": {
    "collapsed": false,
    "ExecuteTime": {
     "end_time": "2024-04-04T04:41:43.619220Z",
     "start_time": "2024-04-04T04:41:43.609062Z"
    }
   }
  },
  {
   "cell_type": "code",
   "execution_count": null,
   "outputs": [],
   "source": [
    "# перенести последнюю букву в начало\n",
    "# *b takes all args except of the last one\n",
    "*b, c = input()\n",
    "print(c, *b, sep='')"
   ],
   "metadata": {
    "collapsed": false
   }
  },
  {
   "cell_type": "code",
   "outputs": [
    {
     "name": "stdout",
     "output_type": "stream",
     "text": [
      "a=10\n"
     ]
    }
   ],
   "source": [
    "# <variable> + \"=\" shows variable itself and the value\n",
    "a = 10\n",
    "print(f'{a=}')"
   ],
   "metadata": {
    "collapsed": false,
    "ExecuteTime": {
     "end_time": "2024-04-04T04:32:35.853046Z",
     "start_time": "2024-04-04T04:32:35.846794Z"
    }
   },
   "execution_count": 1
  }
 ],
 "metadata": {
  "kernelspec": {
   "display_name": "Python 3",
   "language": "python",
   "name": "python3"
  },
  "language_info": {
   "codemirror_mode": {
    "name": "ipython",
    "version": 2
   },
   "file_extension": ".py",
   "mimetype": "text/x-python",
   "name": "python",
   "nbconvert_exporter": "python",
   "pygments_lexer": "ipython2",
   "version": "2.7.6"
  }
 },
 "nbformat": 4,
 "nbformat_minor": 0
}
