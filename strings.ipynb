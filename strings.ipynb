{
 "cells": [
  {
   "cell_type": "code",
   "execution_count": 1,
   "metadata": {
    "collapsed": true
   },
   "outputs": [
    {
     "name": "stdout",
     "output_type": "stream",
     "text": [
      "*d*%*d*#*d*\n",
      "dacabac\n"
     ]
    }
   ],
   "source": [
    "# strings could be encoded or decoded with standard library translate method\n",
    "source, dest, decoded, encoded = ('abcd', '*d%#', 'abacabadaba', '#*%*d*%')\n",
    "print(decoded.translate(str.maketrans(source, dest)))\n",
    "print(encoded.translate(str.maketrans(dest, source)))"
   ]
  },
  {
   "cell_type": "code",
   "execution_count": 1,
   "outputs": [
    {
     "name": "stdout",
     "output_type": "stream",
     "text": [
      "   1, 0001, 0001\n"
     ]
    }
   ],
   "source": [
    "# formatted output\n",
    "n = 1\n",
    "print(f'{n:4}, {n:04}, {str(n).zfill(4)}')"
   ],
   "metadata": {
    "collapsed": false
   }
  },
  {
   "cell_type": "code",
   "execution_count": null,
   "outputs": [],
   "source": [
    "# перенести последнюю букву в начало\n",
    "# *b takes all args except of the last one\n",
    "*b, c = input()\n",
    "print(c, *b, sep='')"
   ],
   "metadata": {
    "collapsed": false
   }
  }
 ],
 "metadata": {
  "kernelspec": {
   "display_name": "Python 3",
   "language": "python",
   "name": "python3"
  },
  "language_info": {
   "codemirror_mode": {
    "name": "ipython",
    "version": 2
   },
   "file_extension": ".py",
   "mimetype": "text/x-python",
   "name": "python",
   "nbconvert_exporter": "python",
   "pygments_lexer": "ipython2",
   "version": "2.7.6"
  }
 },
 "nbformat": 4,
 "nbformat_minor": 0
}
