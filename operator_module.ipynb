{
 "cells": [
  {
   "cell_type": "code",
   "execution_count": 3,
   "metadata": {
    "collapsed": true
   },
   "outputs": [],
   "source": [
    "# https://docs.python.org/3/library/operator.html\n",
    "# operator — Standard operators as functions\n",
    "from operator import itemgetter"
   ]
  },
  {
   "cell_type": "code",
   "execution_count": 6,
   "outputs": [
    {
     "name": "stdout",
     "output_type": "stream",
     "text": [
      "('B', 'D', 'F')\n",
      "[3, 2, 5, 1]\n",
      "[('orange', 1), ('banana', 2), ('apple', 3), ('pear', 5)]\n"
     ]
    }
   ],
   "source": [
    "# operator.itemgetter(item)\n",
    "# operator.itemgetter(*items)\n",
    "# Return a callable object that fetches item from its operand using the operand’s __getitem__() method.\n",
    "# If multiple items are specified, returns a tuple of lookup values.\n",
    "print(itemgetter(1, 3, 5)('ABCDEFG'))\n",
    "\n",
    "inventory = [('apple', 3), ('banana', 2), ('pear', 5), ('orange', 1)]\n",
    "getcount = itemgetter(1)\n",
    "print(list(map(getcount, inventory)))\n",
    "print(sorted(inventory, key=getcount))"
   ],
   "metadata": {
    "collapsed": false,
    "pycharm": {
     "name": "#%%\n"
    }
   }
  }
 ],
 "metadata": {
  "kernelspec": {
   "display_name": "Python 3",
   "language": "python",
   "name": "python3"
  },
  "language_info": {
   "codemirror_mode": {
    "name": "ipython",
    "version": 2
   },
   "file_extension": ".py",
   "mimetype": "text/x-python",
   "name": "python",
   "nbconvert_exporter": "python",
   "pygments_lexer": "ipython2",
   "version": "2.7.6"
  }
 },
 "nbformat": 4,
 "nbformat_minor": 0
}