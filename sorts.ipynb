{
 "cells": [
  {
   "cell_type": "code",
   "execution_count": 2,
   "metadata": {
    "collapsed": true
   },
   "outputs": [
    {
     "name": "stdout",
     "output_type": "stream",
     "text": [
      "['a', 'c', 'aaa', 'aaa', 'aa', 'aa', 'aa', 'bb', 'bb', 'bb']\n",
      "['aa', 'aa', 'aa', 'bb', 'bb', 'bb', 'aaa', 'aaa', 'a', 'c']\n"
     ]
    }
   ],
   "source": [
    "# task to sort array by 2 factors: 1 - word count, 2 - by word (common word sort)\n",
    "# to use 2 factor sort we need to return tuple from lambda in key argument\n",
    "array = ['bb', 'c', 'aa', 'aa', 'aa', 'bb', 'a', 'bb', 'aaa', 'aaa']\n",
    "print(sorted(array, key=lambda x: (array.count(x), x)))\n",
    "# but to get correct result 'aa' we need to reverse 1 factor - we can not reverse string sort in lambda\n",
    "# but can reverse sort by count, setting \"-\" before this item in tuple\n",
    "print(sorted(array, key=lambda x: (-array.count(x), x)))"
   ]
  }
 ],
 "metadata": {
  "kernelspec": {
   "display_name": "Python 3",
   "language": "python",
   "name": "python3"
  },
  "language_info": {
   "codemirror_mode": {
    "name": "ipython",
    "version": 2
   },
   "file_extension": ".py",
   "mimetype": "text/x-python",
   "name": "python",
   "nbconvert_exporter": "python",
   "pygments_lexer": "ipython2",
   "version": "2.7.6"
  }
 },
 "nbformat": 4,
 "nbformat_minor": 0
}