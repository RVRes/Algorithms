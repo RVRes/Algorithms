{
 "cells": [
  {
   "cell_type": "code",
   "execution_count": null,
   "outputs": [],
   "source": [
    "# замыкание - это внутренняя функция, которая возвращается из внешней функции и имеет доступ к переменной из внешнего скоупа\n",
    "# каждое замыкание хранит свое состояние. Замыкания не пересекаются.\n",
    "# хранит состояни и предоставляет интерфейс для работы с ним. Инкапсулирует (скрывает) данные. Позволяет не создавать глобальную переменную.\n",
    "# https://www.youtube.com/watch?v=hTLDgAl32_o"
   ],
   "metadata": {
    "collapsed": false,
    "pycharm": {
     "name": "#%%\n"
    }
   }
  },
  {
   "cell_type": "code",
   "execution_count": 3,
   "outputs": [
    {
     "name": "stdout",
     "output_type": "stream",
     "text": [
      "['Vika']\n",
      "['Vika', 'Petya']\n",
      "['Vika', 'Petya', 'Olga']\n",
      "['Ivan']\n",
      "['Ivan', 'Dasha']\n"
     ]
    }
   ],
   "source": [
    "# Замыкание возвращает внутреннюю функцию, которая ссылается на переменную _names_list из outer scope. При каждом вызове names_list() создается новая переменная _names_list = [], и состояния в полученных перменных не пересекаются.\n",
    "from typing import List, Callable\n",
    "\n",
    "\n",
    "def names_list() -> Callable:\n",
    "    _names_list = []\n",
    "\n",
    "    def inner(name:str) -> List[str]:\n",
    "        _names_list.append(name)\n",
    "        return _names_list\n",
    "    return inner\n",
    "\n",
    "\n",
    "classmates = names_list()\n",
    "children = names_list()\n",
    "print(classmates('Vika'))\n",
    "print(classmates('Petya'))\n",
    "print(classmates('Olga'))\n",
    "print(children('Ivan'))\n",
    "print(children('Dasha'))"
   ],
   "metadata": {
    "collapsed": false,
    "pycharm": {
     "name": "#%%\n"
    }
   }
  },
  {
   "cell_type": "code",
   "execution_count": 4,
   "outputs": [
    {
     "name": "stdout",
     "output_type": "stream",
     "text": [
      "1\n",
      "6\n",
      "3\n"
     ]
    }
   ],
   "source": [
    "# здесь мы создаем счетчик, который хранит состояние. Мы должны использовать nonlocal, тк типы int и str являются неизменяемыми (при каждом присвоении создается новая ссылка), чтобы иметь возможность менять переменную внешнего скоупа.\n",
    "from typing import Callable\n",
    "\n",
    "def counter() -> Callable:\n",
    "    value = 0\n",
    "\n",
    "    def inner(increment: int) -> int:\n",
    "        nonlocal value\n",
    "        value += increment\n",
    "        return value\n",
    "    return inner\n",
    "\n",
    "\n",
    "c = counter()\n",
    "print(c(1))\n",
    "print(c(5))\n",
    "print(c(-3))"
   ],
   "metadata": {
    "collapsed": false,
    "pycharm": {
     "name": "#%%\n"
    }
   }
  },
  {
   "cell_type": "code",
   "execution_count": 6,
   "outputs": [
    {
     "name": "stdout",
     "output_type": "stream",
     "text": [
      "25\n",
      "36\n",
      "125\n",
      "216\n"
     ]
    }
   ],
   "source": [
    "# внутренняя функция может создать замыкание непосредственно с аргументами внешней.\n",
    "# лямбда функция здесь ссылается на аргумент base внешней функции и образует замыкание\n",
    "from typing import Callable\n",
    "\n",
    "def pow_(base:int) -> Callable:\n",
    "    return lambda value: value**base\n",
    "\n",
    "p2 = pow_(2)\n",
    "p3 = pow_(3)\n",
    "print(p2(5))\n",
    "print(p2(6))\n",
    "print(p3(5))\n",
    "print(p3(6))"
   ],
   "metadata": {
    "collapsed": false,
    "pycharm": {
     "name": "#%%\n"
    }
   }
  },
  {
   "cell_type": "code",
   "execution_count": 7,
   "outputs": [
    {
     "name": "stdout",
     "output_type": "stream",
     "text": [
      "['Vika', 'Petya', 'Olga']\n",
      "3\n"
     ]
    }
   ],
   "source": [
    "# к значениям данных внутри замыкания все же можно обратиться напрямую используя магический метод __closure__\n",
    "print(classmates.__closure__[0].cell_contents)\n",
    "print(p3.__closure__[0].cell_contents)"
   ],
   "metadata": {
    "collapsed": false,
    "pycharm": {
     "name": "#%%\n"
    }
   }
  }
 ],
 "metadata": {
  "kernelspec": {
   "display_name": "Python 3",
   "language": "python",
   "name": "python3"
  },
  "language_info": {
   "codemirror_mode": {
    "name": "ipython",
    "version": 2
   },
   "file_extension": ".py",
   "mimetype": "text/x-python",
   "name": "python",
   "nbconvert_exporter": "python",
   "pygments_lexer": "ipython2",
   "version": "2.7.6"
  }
 },
 "nbformat": 4,
 "nbformat_minor": 0
}